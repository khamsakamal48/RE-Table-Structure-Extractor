{
 "cells": [
  {
   "cell_type": "code",
   "id": "initial_id",
   "metadata": {
    "collapsed": true,
    "ExecuteTime": {
     "end_time": "2025-05-26T02:24:27.029928Z",
     "start_time": "2025-05-26T02:24:26.382387Z"
    }
   },
   "source": [
    "from bs4 import BeautifulSoup\n",
    "import pandas as pd\n",
    "from io import StringIO\n",
    "import glob"
   ],
   "outputs": [],
   "execution_count": 1
  },
  {
   "metadata": {
    "ExecuteTime": {
     "end_time": "2025-05-26T03:07:13.143112Z",
     "start_time": "2025-05-26T03:07:13.127968Z"
    }
   },
   "cell_type": "code",
   "source": [
    "html_files = glob.glob1('RE7Schema/', '*.HTML')\n",
    "\n",
    "for file in html_files:\n",
    "    # Load HTML file\n",
    "    with open('RE7Schema/RE7_ACTION_REMINDER.HTML', 'r', encoding='utf-8') as f:\n",
    "        html = f.read()\n",
    "\n",
    "    # Parse HTML\n",
    "    soup = BeautifulSoup(html, 'html.parser')\n",
    "    tables = soup.find_all('table')\n",
    "\n",
    "    # Tables\n",
    "    df_1 = pd.DataFrame()\n",
    "\n",
    "    # Index Relations\n",
    "    df_2 = pd.DataFrame()\n",
    "\n",
    "    # Name\n",
    "    name = soup.title.string\n",
    "\n",
    "    # For Tables\n",
    "    if name.endswith('(Table)'):\n",
    "\n",
    "        for i, table in enumerate(tables):\n",
    "            html_str = str(table)\n",
    "            html_str = html_str.replace('<img src=\"bluecheck.gif\"/>', 'True')\n",
    "            df = pd.read_html(StringIO(html_str))[0]\n",
    "\n",
    "            # Work on Primary Key Column\n",
    "            if df.columns[0] == 'Primary Key':\n",
    "                df = df.rename(columns={'Primary Key': 'Field'})\n",
    "\n",
    "                # Add a new column\n",
    "                df['Primary Key'] = True\n",
    "\n",
    "            if df.columns[0] == 'Foreign Key':\n",
    "                df = df.rename(columns={'Foreign Key': 'Field'})\n",
    "\n",
    "                # Add a new column\n",
    "                df['Foreign Key'] = True\n",
    "\n",
    "\n",
    "            if df.columns[0] == 'Index Name':\n",
    "                df_2 = pd.concat([df_2, df])\n",
    "\n",
    "            else:\n",
    "                df_1 = pd.concat([df_1, df])\n",
    "\n",
    "    break"
   ],
   "id": "12ac1dd91c9330ad",
   "outputs": [],
   "execution_count": 28
  },
  {
   "metadata": {
    "ExecuteTime": {
     "end_time": "2025-05-26T03:07:13.935365Z",
     "start_time": "2025-05-26T03:07:13.929518Z"
    }
   },
   "cell_type": "code",
   "source": "df_1",
   "id": "84e216abdd8c37c0",
   "outputs": [
    {
     "data": {
      "text/plain": [
       "       Field   Field Type Null          Notes  \\\n",
       "0         ID      INTEGER  NaN            NaN   \n",
       "0  IMPORT_ID  VARCHAR(20)  1.0            NaN   \n",
       "1   SEQUENCE      INTEGER  1.0    Default = 0   \n",
       "0  ACTION_ID      INTEGER  NaN     ACTIONS.ID   \n",
       "1    USER_ID      INTEGER  NaN  USERS.USER_ID   \n",
       "\n",
       "                                         Description Primary Key Foreign Key  \n",
       "0     Unique identifier assigned by the application.        True         NaN  \n",
       "0                    User-defined unique identifier.         NaN         NaN  \n",
       "1  Indicates the ordinal position within a set of...         NaN         NaN  \n",
       "0  Foreign key to Actions - indicates the ID of t...         NaN        True  \n",
       "1  Foreign key to Users - indicates the ID of the...         NaN        True  "
      ],
      "text/html": [
       "<div>\n",
       "<style scoped>\n",
       "    .dataframe tbody tr th:only-of-type {\n",
       "        vertical-align: middle;\n",
       "    }\n",
       "\n",
       "    .dataframe tbody tr th {\n",
       "        vertical-align: top;\n",
       "    }\n",
       "\n",
       "    .dataframe thead th {\n",
       "        text-align: right;\n",
       "    }\n",
       "</style>\n",
       "<table border=\"1\" class=\"dataframe\">\n",
       "  <thead>\n",
       "    <tr style=\"text-align: right;\">\n",
       "      <th></th>\n",
       "      <th>Field</th>\n",
       "      <th>Field Type</th>\n",
       "      <th>Null</th>\n",
       "      <th>Notes</th>\n",
       "      <th>Description</th>\n",
       "      <th>Primary Key</th>\n",
       "      <th>Foreign Key</th>\n",
       "    </tr>\n",
       "  </thead>\n",
       "  <tbody>\n",
       "    <tr>\n",
       "      <th>0</th>\n",
       "      <td>ID</td>\n",
       "      <td>INTEGER</td>\n",
       "      <td>NaN</td>\n",
       "      <td>NaN</td>\n",
       "      <td>Unique identifier assigned by the application.</td>\n",
       "      <td>True</td>\n",
       "      <td>NaN</td>\n",
       "    </tr>\n",
       "    <tr>\n",
       "      <th>0</th>\n",
       "      <td>IMPORT_ID</td>\n",
       "      <td>VARCHAR(20)</td>\n",
       "      <td>1.0</td>\n",
       "      <td>NaN</td>\n",
       "      <td>User-defined unique identifier.</td>\n",
       "      <td>NaN</td>\n",
       "      <td>NaN</td>\n",
       "    </tr>\n",
       "    <tr>\n",
       "      <th>1</th>\n",
       "      <td>SEQUENCE</td>\n",
       "      <td>INTEGER</td>\n",
       "      <td>1.0</td>\n",
       "      <td>Default = 0</td>\n",
       "      <td>Indicates the ordinal position within a set of...</td>\n",
       "      <td>NaN</td>\n",
       "      <td>NaN</td>\n",
       "    </tr>\n",
       "    <tr>\n",
       "      <th>0</th>\n",
       "      <td>ACTION_ID</td>\n",
       "      <td>INTEGER</td>\n",
       "      <td>NaN</td>\n",
       "      <td>ACTIONS.ID</td>\n",
       "      <td>Foreign key to Actions - indicates the ID of t...</td>\n",
       "      <td>NaN</td>\n",
       "      <td>True</td>\n",
       "    </tr>\n",
       "    <tr>\n",
       "      <th>1</th>\n",
       "      <td>USER_ID</td>\n",
       "      <td>INTEGER</td>\n",
       "      <td>NaN</td>\n",
       "      <td>USERS.USER_ID</td>\n",
       "      <td>Foreign key to Users - indicates the ID of the...</td>\n",
       "      <td>NaN</td>\n",
       "      <td>True</td>\n",
       "    </tr>\n",
       "  </tbody>\n",
       "</table>\n",
       "</div>"
      ]
     },
     "execution_count": 29,
     "metadata": {},
     "output_type": "execute_result"
    }
   ],
   "execution_count": 29
  },
  {
   "metadata": {
    "ExecuteTime": {
     "end_time": "2025-05-26T03:07:20.097067Z",
     "start_time": "2025-05-26T03:07:20.093743Z"
    }
   },
   "cell_type": "code",
   "source": "df_2",
   "id": "b63f17a2b3f07bee",
   "outputs": [
    {
     "data": {
      "text/plain": [
       "                      Index Name           Field Unique\n",
       "0            I_ACTION_REMINDER_1  IMPORT_ID(Asc)   True\n",
       "1   IX_ACTION_REMINDER_ACTION_ID  ACTION_ID(Asc)    NaN\n",
       "2     IX_ACTION_REMINDER_USER_ID    USER_ID(Asc)    NaN\n",
       "3  PK__ACTION_REMINDER__7B863AD4         ID(Asc)   True"
      ],
      "text/html": [
       "<div>\n",
       "<style scoped>\n",
       "    .dataframe tbody tr th:only-of-type {\n",
       "        vertical-align: middle;\n",
       "    }\n",
       "\n",
       "    .dataframe tbody tr th {\n",
       "        vertical-align: top;\n",
       "    }\n",
       "\n",
       "    .dataframe thead th {\n",
       "        text-align: right;\n",
       "    }\n",
       "</style>\n",
       "<table border=\"1\" class=\"dataframe\">\n",
       "  <thead>\n",
       "    <tr style=\"text-align: right;\">\n",
       "      <th></th>\n",
       "      <th>Index Name</th>\n",
       "      <th>Field</th>\n",
       "      <th>Unique</th>\n",
       "    </tr>\n",
       "  </thead>\n",
       "  <tbody>\n",
       "    <tr>\n",
       "      <th>0</th>\n",
       "      <td>I_ACTION_REMINDER_1</td>\n",
       "      <td>IMPORT_ID(Asc)</td>\n",
       "      <td>True</td>\n",
       "    </tr>\n",
       "    <tr>\n",
       "      <th>1</th>\n",
       "      <td>IX_ACTION_REMINDER_ACTION_ID</td>\n",
       "      <td>ACTION_ID(Asc)</td>\n",
       "      <td>NaN</td>\n",
       "    </tr>\n",
       "    <tr>\n",
       "      <th>2</th>\n",
       "      <td>IX_ACTION_REMINDER_USER_ID</td>\n",
       "      <td>USER_ID(Asc)</td>\n",
       "      <td>NaN</td>\n",
       "    </tr>\n",
       "    <tr>\n",
       "      <th>3</th>\n",
       "      <td>PK__ACTION_REMINDER__7B863AD4</td>\n",
       "      <td>ID(Asc)</td>\n",
       "      <td>True</td>\n",
       "    </tr>\n",
       "  </tbody>\n",
       "</table>\n",
       "</div>"
      ]
     },
     "execution_count": 30,
     "metadata": {},
     "output_type": "execute_result"
    }
   ],
   "execution_count": 30
  },
  {
   "metadata": {
    "ExecuteTime": {
     "end_time": "2025-05-26T02:24:27.227915Z",
     "start_time": "2025-05-26T02:24:27.224930Z"
    }
   },
   "cell_type": "code",
   "source": "tables",
   "id": "a237d29a6c5d363",
   "outputs": [
    {
     "data": {
      "text/plain": [
       "[<table cellspacing=\"0\" class=\"BBAPIStandardTable\" width=\"800\">\n",
       " <tr>\n",
       " <th width=\"30%\">Primary Key</th>\n",
       " <th width=\"10%\">Field Type</th>\n",
       " <th class=\"Centered\" width=\"5%\">Null</th>\n",
       " <th width=\"25%\">Notes</th>\n",
       " <th width=\"30%\">Description</th>\n",
       " </tr>\n",
       " <tr>\n",
       " <td width=\"30%\">ID</td>\n",
       " <td width=\"10%\">INTEGER</td>\n",
       " <td class=\"Centered\" width=\"5%\"> </td>\n",
       " <td width=\"25%\"></td>\n",
       " <td width=\"30%\">Unique identifier assigned by the application.</td>\n",
       " </tr>\n",
       " </table>,\n",
       " <table cellspacing=\"0\" class=\"BBAPIStandardTable\" width=\"800\">\n",
       " <tr>\n",
       " <th width=\"30%\">Field</th>\n",
       " <th width=\"10%\">Field Type</th>\n",
       " <th class=\"Centered\" width=\"5%\">Null</th>\n",
       " <th width=\"25%\">Notes</th>\n",
       " <th width=\"30%\">Description</th>\n",
       " </tr>\n",
       " <tr>\n",
       " <td width=\"30%\">IMPORT_ID</td>\n",
       " <td width=\"10%\">VARCHAR(20)</td>\n",
       " <td class=\"Centered\" width=\"5%\"><img src=\"bluecheck.gif\"/></td>\n",
       " <td width=\"25%\"><p style=\"margin-top: 5\"></p></td>\n",
       " <td width=\"30%\">User-defined unique identifier.</td>\n",
       " </tr>\n",
       " <tr>\n",
       " <td width=\"30%\">SEQUENCE</td>\n",
       " <td width=\"10%\">INTEGER</td>\n",
       " <td class=\"Centered\" width=\"5%\"><img src=\"bluecheck.gif\"/></td>\n",
       " <td width=\"25%\">Default = 0<p style=\"margin-top: 5\"></p></td>\n",
       " <td width=\"30%\">Indicates the ordinal position within a set of records.</td>\n",
       " </tr>\n",
       " </table>,\n",
       " <table cellspacing=\"0\" class=\"BBAPIStandardTable\" width=\"800\">\n",
       " <tr>\n",
       " <th width=\"30%\">Foreign Key</th>\n",
       " <th width=\"10%\">Field Type</th>\n",
       " <th class=\"Centered\" width=\"5%\">Null</th>\n",
       " <th width=\"25%\">Notes</th>\n",
       " <th width=\"30%\">Description</th>\n",
       " </tr>\n",
       " <tr>\n",
       " <td width=\"30%\">ACTION_ID</td>\n",
       " <td width=\"10%\">INTEGER</td>\n",
       " <td class=\"Centered\" width=\"5%\"> </td>\n",
       " <td width=\"25%\"><a href=\"RE7_ACTIONS.HTML#ID\">ACTIONS.ID</a></td>\n",
       " <td width=\"30%\">Foreign key to Actions - indicates the ID of the Action with which this item is associated.</td>\n",
       " </tr>\n",
       " <tr>\n",
       " <td width=\"30%\">USER_ID</td>\n",
       " <td width=\"10%\">INTEGER</td>\n",
       " <td class=\"Centered\" width=\"5%\"> </td>\n",
       " <td width=\"25%\"><a href=\"RE7_USERS.HTML#USER_ID\">USERS.USER_ID</a></td>\n",
       " <td width=\"30%\">Foreign key to Users - indicates the ID of the user.</td>\n",
       " </tr>\n",
       " </table>,\n",
       " <table cellspacing=\"0\" class=\"BBAPIStandardTable\" width=\"800\">\n",
       " <tr>\n",
       " <th width=\"40%\">Index Name</th>\n",
       " <th width=\"40%\">Field</th>\n",
       " <th class=\"Centered\" width=\"20%\">Unique</th>\n",
       " </tr>\n",
       " <tr>\n",
       " <td width=\"40%\">I_ACTION_REMINDER_1</td>\n",
       " <td width=\"40%\">IMPORT_ID(Asc) </td>\n",
       " <td class=\"Centered\" width=\"20%\"><img src=\"bluecheck.gif\"/></td>\n",
       " </tr>\n",
       " <tr>\n",
       " <td width=\"40%\">IX_ACTION_REMINDER_ACTION_ID</td>\n",
       " <td width=\"40%\">ACTION_ID(Asc) </td>\n",
       " <td class=\"Centered\" width=\"20%\"> </td>\n",
       " </tr>\n",
       " <tr>\n",
       " <td width=\"40%\">IX_ACTION_REMINDER_USER_ID</td>\n",
       " <td width=\"40%\">USER_ID(Asc) </td>\n",
       " <td class=\"Centered\" width=\"20%\"> </td>\n",
       " </tr>\n",
       " <tr>\n",
       " <td width=\"40%\">PK__ACTION_REMINDER__7B863AD4</td>\n",
       " <td width=\"40%\">ID(Asc) </td>\n",
       " <td class=\"Centered\" width=\"20%\"><img src=\"bluecheck.gif\"/></td>\n",
       " </tr>\n",
       " </table>]"
      ]
     },
     "execution_count": 4,
     "metadata": {},
     "output_type": "execute_result"
    }
   ],
   "execution_count": 4
  },
  {
   "metadata": {
    "ExecuteTime": {
     "end_time": "2025-05-26T02:24:27.377101Z",
     "start_time": "2025-05-26T02:24:27.370762Z"
    }
   },
   "cell_type": "code",
   "source": [
    "# Parse HTML\n",
    "soup = BeautifulSoup(html, 'html.parser')\n",
    "tables = soup.find_all('table')"
   ],
   "id": "6bfc1eb10df9d80f",
   "outputs": [],
   "execution_count": 5
  },
  {
   "metadata": {
    "ExecuteTime": {
     "end_time": "2025-05-26T02:24:27.508710Z",
     "start_time": "2025-05-26T02:24:27.501963Z"
    }
   },
   "cell_type": "code",
   "source": [
    "for i, table in enumerate(tables):\n",
    "    html_str = str(table)\n",
    "    html_str = html_str.replace('<img src=\"bluecheck.gif\"/>', 'True')\n",
    "    df = pd.read_html(StringIO(html_str))[0]"
   ],
   "id": "7b7fffc78977bdf8",
   "outputs": [],
   "execution_count": 6
  },
  {
   "metadata": {
    "ExecuteTime": {
     "end_time": "2025-05-26T02:24:27.542439Z",
     "start_time": "2025-05-26T02:24:27.539119Z"
    }
   },
   "cell_type": "code",
   "source": "df",
   "id": "3e7f0bbe0c67ad6",
   "outputs": [
    {
     "data": {
      "text/plain": [
       "                      Index Name           Field Unique\n",
       "0            I_ACTION_REMINDER_1  IMPORT_ID(Asc)   True\n",
       "1   IX_ACTION_REMINDER_ACTION_ID  ACTION_ID(Asc)    NaN\n",
       "2     IX_ACTION_REMINDER_USER_ID    USER_ID(Asc)    NaN\n",
       "3  PK__ACTION_REMINDER__7B863AD4         ID(Asc)   True"
      ],
      "text/html": [
       "<div>\n",
       "<style scoped>\n",
       "    .dataframe tbody tr th:only-of-type {\n",
       "        vertical-align: middle;\n",
       "    }\n",
       "\n",
       "    .dataframe tbody tr th {\n",
       "        vertical-align: top;\n",
       "    }\n",
       "\n",
       "    .dataframe thead th {\n",
       "        text-align: right;\n",
       "    }\n",
       "</style>\n",
       "<table border=\"1\" class=\"dataframe\">\n",
       "  <thead>\n",
       "    <tr style=\"text-align: right;\">\n",
       "      <th></th>\n",
       "      <th>Index Name</th>\n",
       "      <th>Field</th>\n",
       "      <th>Unique</th>\n",
       "    </tr>\n",
       "  </thead>\n",
       "  <tbody>\n",
       "    <tr>\n",
       "      <th>0</th>\n",
       "      <td>I_ACTION_REMINDER_1</td>\n",
       "      <td>IMPORT_ID(Asc)</td>\n",
       "      <td>True</td>\n",
       "    </tr>\n",
       "    <tr>\n",
       "      <th>1</th>\n",
       "      <td>IX_ACTION_REMINDER_ACTION_ID</td>\n",
       "      <td>ACTION_ID(Asc)</td>\n",
       "      <td>NaN</td>\n",
       "    </tr>\n",
       "    <tr>\n",
       "      <th>2</th>\n",
       "      <td>IX_ACTION_REMINDER_USER_ID</td>\n",
       "      <td>USER_ID(Asc)</td>\n",
       "      <td>NaN</td>\n",
       "    </tr>\n",
       "    <tr>\n",
       "      <th>3</th>\n",
       "      <td>PK__ACTION_REMINDER__7B863AD4</td>\n",
       "      <td>ID(Asc)</td>\n",
       "      <td>True</td>\n",
       "    </tr>\n",
       "  </tbody>\n",
       "</table>\n",
       "</div>"
      ]
     },
     "execution_count": 7,
     "metadata": {},
     "output_type": "execute_result"
    }
   ],
   "execution_count": 7
  },
  {
   "metadata": {
    "ExecuteTime": {
     "end_time": "2025-05-26T02:24:27.598834Z",
     "start_time": "2025-05-26T02:24:27.596798Z"
    }
   },
   "cell_type": "code",
   "source": "html_str",
   "id": "fd9d76333ff12f9c",
   "outputs": [
    {
     "data": {
      "text/plain": [
       "'<table cellspacing=\"0\" class=\"BBAPIStandardTable\" width=\"800\">\\n<tr>\\n<th width=\"40%\">Index Name</th>\\n<th width=\"40%\">Field</th>\\n<th class=\"Centered\" width=\"20%\">Unique</th>\\n</tr>\\n<tr>\\n<td width=\"40%\">I_ACTION_REMINDER_1</td>\\n<td width=\"40%\">IMPORT_ID(Asc) </td>\\n<td class=\"Centered\" width=\"20%\">True</td>\\n</tr>\\n<tr>\\n<td width=\"40%\">IX_ACTION_REMINDER_ACTION_ID</td>\\n<td width=\"40%\">ACTION_ID(Asc) </td>\\n<td class=\"Centered\" width=\"20%\">\\xa0</td>\\n</tr>\\n<tr>\\n<td width=\"40%\">IX_ACTION_REMINDER_USER_ID</td>\\n<td width=\"40%\">USER_ID(Asc) </td>\\n<td class=\"Centered\" width=\"20%\">\\xa0</td>\\n</tr>\\n<tr>\\n<td width=\"40%\">PK__ACTION_REMINDER__7B863AD4</td>\\n<td width=\"40%\">ID(Asc) </td>\\n<td class=\"Centered\" width=\"20%\">True</td>\\n</tr>\\n</table>'"
      ]
     },
     "execution_count": 8,
     "metadata": {},
     "output_type": "execute_result"
    }
   ],
   "execution_count": 8
  },
  {
   "metadata": {
    "ExecuteTime": {
     "end_time": "2025-05-26T03:03:00.085050Z",
     "start_time": "2025-05-26T03:03:00.082329Z"
    }
   },
   "cell_type": "code",
   "source": "soup.title.string",
   "id": "ad12b48521e23e2",
   "outputs": [
    {
     "data": {
      "text/plain": [
       "'ACTION_REMINDER (Table)'"
      ]
     },
     "execution_count": 21,
     "metadata": {},
     "output_type": "execute_result"
    }
   ],
   "execution_count": 21
  },
  {
   "metadata": {},
   "cell_type": "code",
   "outputs": [],
   "execution_count": null,
   "source": "soup.title.string.replace",
   "id": "7a361f15d1ea6e11"
  },
  {
   "metadata": {
    "ExecuteTime": {
     "end_time": "2025-05-26T03:05:12.584954Z",
     "start_time": "2025-05-26T03:05:12.581295Z"
    }
   },
   "cell_type": "code",
   "source": "soup.get_text()",
   "id": "7e633e53795c29a2",
   "outputs": [
    {
     "data": {
      "text/plain": [
       "'ACTION_REMINDER (Table)\\n\\nACTION_REMINDER (Table)\\nPrimary Key\\xa0\\xa0\\xa0\\n\\nFields\\xa0\\xa0\\xa0\\n\\nForeign keys\\xa0\\xa0\\xa0\\n\\nIndexes\\xa0\\xa0\\xa0\\n\\nReferenced by\\xa0\\xa0\\xa0\\n\\nA join table used for storing the link between actions and the users who should be reminded of those actions.\\n\\n\\n\\n\\nPrimary Key\\nField Type\\nNull\\nNotes\\nDescription\\n\\n\\nID\\nINTEGER\\n\\xa0\\n\\nUnique identifier assigned by the application.\\n\\n\\n\\n\\n\\n\\nField\\nField Type\\nNull\\nNotes\\nDescription\\n\\n\\nIMPORT_ID\\nVARCHAR(20)\\n\\n\\nUser-defined unique identifier.\\n\\n\\nSEQUENCE\\nINTEGER\\n\\nDefault = 0\\nIndicates the ordinal position within a set of records.\\n\\n\\n\\n\\n\\n\\nForeign Key\\nField Type\\nNull\\nNotes\\nDescription\\n\\n\\nACTION_ID\\nINTEGER\\n\\xa0\\nACTIONS.ID\\nForeign key to Actions - indicates the ID of the Action with which this item is associated.\\n\\n\\nUSER_ID\\nINTEGER\\n\\xa0\\nUSERS.USER_ID\\nForeign key to Users - indicates the ID of the user.\\n\\n\\n\\n\\n\\n\\nIndex Name\\nField\\nUnique\\n\\n\\nI_ACTION_REMINDER_1\\nIMPORT_ID(Asc) \\n\\n\\n\\nIX_ACTION_REMINDER_ACTION_ID\\nACTION_ID(Asc) \\n\\xa0\\n\\n\\nIX_ACTION_REMINDER_USER_ID\\nUSER_ID(Asc) \\n\\xa0\\n\\n\\nPK__ACTION_REMINDER__7B863AD4\\nID(Asc) \\n\\n\\n\\n\\n\\nCopyright 2014, Blackbaud, Inc.\\xa0&nbspAll rights reserved.\\n\\n'"
      ]
     },
     "execution_count": 27,
     "metadata": {},
     "output_type": "execute_result"
    }
   ],
   "execution_count": 27
  },
  {
   "metadata": {},
   "cell_type": "code",
   "outputs": [],
   "execution_count": null,
   "source": "",
   "id": "ddeea4c76f3d0c23"
  }
 ],
 "metadata": {
  "kernelspec": {
   "display_name": "Python 3",
   "language": "python",
   "name": "python3"
  },
  "language_info": {
   "codemirror_mode": {
    "name": "ipython",
    "version": 2
   },
   "file_extension": ".py",
   "mimetype": "text/x-python",
   "name": "python",
   "nbconvert_exporter": "python",
   "pygments_lexer": "ipython2",
   "version": "2.7.6"
  }
 },
 "nbformat": 4,
 "nbformat_minor": 5
}
